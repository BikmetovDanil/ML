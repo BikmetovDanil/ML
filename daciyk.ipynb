{
  "nbformat": 4,
  "nbformat_minor": 0,
  "metadata": {
    "colab": {
      "provenance": [],
      "gpuType": "T4",
      "mount_file_id": "1zBUrG8JgOEf6YFOt2ZWLDAVV_hE41K2k",
      "authorship_tag": "ABX9TyOXhfS9TwThFJ/GaCbxEp+1",
      "include_colab_link": true
    },
    "kernelspec": {
      "name": "python3",
      "display_name": "Python 3"
    },
    "language_info": {
      "name": "python"
    },
    "accelerator": "GPU"
  },
  "cells": [
    {
      "cell_type": "markdown",
      "metadata": {
        "id": "view-in-github",
        "colab_type": "text"
      },
      "source": [
        "<a href=\"https://colab.research.google.com/github/BikmetovDanil/ML/blob/master/daciyk.ipynb\" target=\"_parent\"><img src=\"https://colab.research.google.com/assets/colab-badge.svg\" alt=\"Open In Colab\"/></a>"
      ]
    },
    {
      "cell_type": "markdown",
      "source": [
        "# Интеллектуальная исследовательская работа, робот Сергей Аркадьевич Дацюк\n",
        "(сокращенно RoSD)"
      ],
      "metadata": {
        "id": "Mh4NVtWeWXpX"
      }
    },
    {
      "cell_type": "markdown",
      "source": [
        "![link](https://i.ytimg.com/vi/gmlW0AzPjOQ/maxresdefault.jpg)"
      ],
      "metadata": {
        "id": "TGmDStJSW5e2"
      }
    },
    {
      "cell_type": "markdown",
      "source": [
        "## deps"
      ],
      "metadata": {
        "id": "Upra7-zVWVhD"
      }
    },
    {
      "cell_type": "code",
      "source": [
        "%%bash\n",
        "git clone https://github.com/huggingface/transformers\n",
        "cd transformers\n",
        "pip install .\n",
        "pip install datasets evaluate\n",
        "pip install accelerate -U -qq\n",
        "\n",
        "mkdir models/\n",
        "wget https://raw.githubusercontent.com/sberbank-ai/ru-gpts/master/pretrain_transformers.py\n",
        "wget https://raw.githubusercontent.com/sberbank-ai/ru-gpts/master/generate_transformers.py\n",
        "wget https://raw.githubusercontent.com/huggingface/transformers/main/examples/pytorch/language-modeling/run_clm.py"
      ],
      "metadata": {
        "id": "vDpumV4xWVNL"
      },
      "execution_count": null,
      "outputs": []
    },
    {
      "cell_type": "markdown",
      "source": [
        "## dataset"
      ],
      "metadata": {
        "id": "LH73YjCNWTzA"
      }
    },
    {
      "cell_type": "code",
      "source": [
        "dataset = \"\"\n",
        "books = [\"daciyk_konstructivizm.txt\", \"daciyk_ontologia.txt\", \"daciyk_snm.txt\", \"daciyk_perspectiva.txt\"]\n",
        "for book in books:\n",
        "    with open(book) as f:\n",
        "        dataset += f.read()\n",
        "print(len(dataset))\n",
        "with open(\"daciyk_all.txt\", \"w\") as f:\n",
        "    f.write(dataset)"
      ],
      "metadata": {
        "id": "TzhUvKk2JMMy"
      },
      "execution_count": null,
      "outputs": []
    },
    {
      "cell_type": "code",
      "source": [
        "dataset[:300]"
      ],
      "metadata": {
        "id": "KtRscAfGJZkz"
      },
      "execution_count": null,
      "outputs": []
    },
    {
      "cell_type": "markdown",
      "source": [
        "## train"
      ],
      "metadata": {
        "id": "vkwVRSlsWR34"
      }
    },
    {
      "cell_type": "code",
      "source": [
        "%load_ext tensorboard\n",
        "%tensorboard --logdir models/essays/runs"
      ],
      "metadata": {
        "id": "LscE_V4RNjo6"
      },
      "execution_count": null,
      "outputs": []
    },
    {
      "cell_type": "code",
      "source": [
        "!python run_clm.py \\\n",
        "   --model_name_or_path sberbank-ai/rugpt3small_based_on_gpt2 \\\n",
        "   --train_file daciyk_all.txt \\\n",
        "   --per_device_train_batch_size 12 \\\n",
        "   --block_size 1024 \\\n",
        "   --dataset_config_name plain_text \\\n",
        "   --do_train \\\n",
        "   --gradient_accumulation_steps 4 \\\n",
        "   --gradient_checkpointing True \\\n",
        "   --fp16 True \\\n",
        "   --optim adafactor \\\n",
        "   --num_train_epochs 7 \\\n",
        "   --output_dir models/essays \\\n",
        "   --overwrite_output_dir"
      ],
      "metadata": {
        "id": "eNV-FbRuJask"
      },
      "execution_count": null,
      "outputs": []
    },
    {
      "cell_type": "markdown",
      "source": [
        "## generate"
      ],
      "metadata": {
        "id": "CaPzMJZKWPM7"
      }
    },
    {
      "cell_type": "code",
      "source": [
        "import numpy as np\n",
        "import torch\n",
        "from transformers import GPT2LMHeadModel, GPT2Tokenizer\n",
        "\n",
        "\n",
        "np.random.seed(42)\n",
        "torch.manual_seed(42)\n",
        "\n",
        "tokenizer = GPT2Tokenizer.from_pretrained(\"models/daciyk\")\n",
        "model = GPT2LMHeadModel.from_pretrained(\"models/daciyk\")\n",
        "\n",
        "\n",
        "model.cuda()"
      ],
      "metadata": {
        "id": "tUoEnpjNKxDg"
      },
      "execution_count": null,
      "outputs": []
    },
    {
      "cell_type": "code",
      "source": [
        "inp_text = input(\"Prompt: \")\n",
        "\n",
        "while inp_text != \"\":\n",
        "    inpt = tokenizer.encode(inp_text, return_tensors=\"pt\")\n",
        "    out = model.generate(inpt.cuda(),\n",
        "                        max_length=500,\n",
        "                        repetition_penalty=6.0,\n",
        "                        do_sample=True,\n",
        "                        top_k=5,\n",
        "                        top_p=0.95,\n",
        "                        temperature=1,\n",
        "                        no_repeat_ngram_size=2)\n",
        "    print(\"RoSD:\", tokenizer.decode(out[0]))\n",
        "    inp_text = input(\"Prompt: \")"
      ],
      "metadata": {
        "id": "to81iHnNP5u9"
      },
      "execution_count": null,
      "outputs": []
    },
    {
      "cell_type": "code",
      "source": [],
      "metadata": {
        "id": "srYF1P6aPnxA"
      },
      "execution_count": null,
      "outputs": []
    }
  ]
}